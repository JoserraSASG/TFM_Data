{
  "nbformat": 4,
  "nbformat_minor": 0,
  "metadata": {
    "colab": {
      "provenance": [],
      "toc_visible": true
    },
    "kernelspec": {
      "name": "python3",
      "display_name": "Python 3"
    },
    "language_info": {
      "name": "python"
    }
  },
  "cells": [
    {
      "cell_type": "code",
      "source": [
        "!wget 'https://github.com/JoserraSASG/TFM_Repository/raw/main/data/EHF2018-M-ATTACKS%20(1).xlsx'\n",
        "!wget 'https://github.com/JoserraSASG/TFM_Repository/raw/main/data/EHF2020-M-ATTACKS.xlsx'\n",
        "!wget 'https://github.com/JoserraSASG/TFM_Repository/raw/main/data/IHF2021-MEN-BIDEA_SCORING.xlsx'\n",
        "!wget 'https://github.com/JoserraSASG/TFM_Repository/raw/main/data/IHF2023-M-BIDEA_SCORING%20-FullP.xlsx'\n",
        "!wget 'https://github.com/JoserraSASG/TFM_Repository/raw/main/data/IHF2023-M-BIDEA_SCORING%20-FullP.xlsx'\n",
        "!wget 'https://github.com/JoserraSASG/TFM_Repository/raw/main/data/EHF2020-W-ATTACKS%20(1).xlsx'\n",
        "!wget 'https://github.com/JoserraSASG/TFM_Repository/raw/main/data/IHF2021-WOMEN-BIDEA_SCORING.xlsx'"
      ],
      "metadata": {
        "colab": {
          "base_uri": "https://localhost:8080/"
        },
        "id": "bz5eDCo5gzhr",
        "outputId": "9a1e5984-47c8-4eab-e0d5-586a8c290463"
      },
      "execution_count": null,
      "outputs": [
        {
          "output_type": "stream",
          "name": "stdout",
          "text": [
            "--2023-08-30 08:32:58--  https://github.com/JoserraSASG/TFM_Repository/raw/main/EHF2018-M-ATTACKS%20(1).xlsx\n",
            "Resolving github.com (github.com)... 140.82.112.4\n",
            "Connecting to github.com (github.com)|140.82.112.4|:443... connected.\n",
            "HTTP request sent, awaiting response... 302 Found\n",
            "Location: https://raw.githubusercontent.com/JoserraSASG/TFM_Repository/main/EHF2018-M-ATTACKS%20(1).xlsx [following]\n",
            "--2023-08-30 08:32:59--  https://raw.githubusercontent.com/JoserraSASG/TFM_Repository/main/EHF2018-M-ATTACKS%20(1).xlsx\n",
            "Resolving raw.githubusercontent.com (raw.githubusercontent.com)... 185.199.108.133, 185.199.110.133, 185.199.111.133, ...\n",
            "Connecting to raw.githubusercontent.com (raw.githubusercontent.com)|185.199.108.133|:443... connected.\n",
            "HTTP request sent, awaiting response... 200 OK\n",
            "Length: 13482 (13K) [application/octet-stream]\n",
            "Saving to: ‘EHF2018-M-ATTACKS (1).xlsx’\n",
            "\n",
            "\r          EHF2018-M   0%[                    ]       0  --.-KB/s               \rEHF2018-M-ATTACKS ( 100%[===================>]  13.17K  --.-KB/s    in 0s      \n",
            "\n",
            "2023-08-30 08:32:59 (82.3 MB/s) - ‘EHF2018-M-ATTACKS (1).xlsx’ saved [13482/13482]\n",
            "\n",
            "--2023-08-30 08:32:59--  https://github.com/JoserraSASG/TFM_Repository/raw/main/EHF2020-M-ATTACKS.xlsx\n",
            "Resolving github.com (github.com)... 140.82.114.3\n",
            "Connecting to github.com (github.com)|140.82.114.3|:443... connected.\n",
            "HTTP request sent, awaiting response... 302 Found\n",
            "Location: https://raw.githubusercontent.com/JoserraSASG/TFM_Repository/main/EHF2020-M-ATTACKS.xlsx [following]\n",
            "--2023-08-30 08:32:59--  https://raw.githubusercontent.com/JoserraSASG/TFM_Repository/main/EHF2020-M-ATTACKS.xlsx\n",
            "Resolving raw.githubusercontent.com (raw.githubusercontent.com)... 185.199.108.133, 185.199.109.133, 185.199.110.133, ...\n",
            "Connecting to raw.githubusercontent.com (raw.githubusercontent.com)|185.199.108.133|:443... connected.\n",
            "HTTP request sent, awaiting response... 200 OK\n",
            "Length: 19727 (19K) [application/octet-stream]\n",
            "Saving to: ‘EHF2020-M-ATTACKS.xlsx’\n",
            "\n",
            "EHF2020-M-ATTACKS.x 100%[===================>]  19.26K  --.-KB/s    in 0s      \n",
            "\n",
            "2023-08-30 08:32:59 (89.1 MB/s) - ‘EHF2020-M-ATTACKS.xlsx’ saved [19727/19727]\n",
            "\n",
            "--2023-08-30 08:32:59--  https://github.com/JoserraSASG/TFM_Repository/raw/main/IHF2021-MEN-BIDEA_SCORING.xlsx\n",
            "Resolving github.com (github.com)... 140.82.114.4\n",
            "Connecting to github.com (github.com)|140.82.114.4|:443... connected.\n",
            "HTTP request sent, awaiting response... 302 Found\n",
            "Location: https://raw.githubusercontent.com/JoserraSASG/TFM_Repository/main/IHF2021-MEN-BIDEA_SCORING.xlsx [following]\n",
            "--2023-08-30 08:32:59--  https://raw.githubusercontent.com/JoserraSASG/TFM_Repository/main/IHF2021-MEN-BIDEA_SCORING.xlsx\n",
            "Resolving raw.githubusercontent.com (raw.githubusercontent.com)... 185.199.108.133, 185.199.109.133, 185.199.110.133, ...\n",
            "Connecting to raw.githubusercontent.com (raw.githubusercontent.com)|185.199.108.133|:443... connected.\n",
            "HTTP request sent, awaiting response... 200 OK\n",
            "Length: 469028 (458K) [application/octet-stream]\n",
            "Saving to: ‘IHF2021-MEN-BIDEA_SCORING.xlsx’\n",
            "\n",
            "IHF2021-MEN-BIDEA_S 100%[===================>] 458.04K  --.-KB/s    in 0.005s  \n",
            "\n",
            "2023-08-30 08:32:59 (81.3 MB/s) - ‘IHF2021-MEN-BIDEA_SCORING.xlsx’ saved [469028/469028]\n",
            "\n",
            "--2023-08-30 08:32:59--  https://github.com/JoserraSASG/TFM_Repository/raw/main/IHF2023-M-BIDEA_SCORING%20-FullP.xlsx\n",
            "Resolving github.com (github.com)... 140.82.114.4\n",
            "Connecting to github.com (github.com)|140.82.114.4|:443... connected.\n",
            "HTTP request sent, awaiting response... 302 Found\n",
            "Location: https://raw.githubusercontent.com/JoserraSASG/TFM_Repository/main/IHF2023-M-BIDEA_SCORING%20-FullP.xlsx [following]\n",
            "--2023-08-30 08:32:59--  https://raw.githubusercontent.com/JoserraSASG/TFM_Repository/main/IHF2023-M-BIDEA_SCORING%20-FullP.xlsx\n",
            "Resolving raw.githubusercontent.com (raw.githubusercontent.com)... 185.199.108.133, 185.199.109.133, 185.199.110.133, ...\n",
            "Connecting to raw.githubusercontent.com (raw.githubusercontent.com)|185.199.108.133|:443... connected.\n",
            "HTTP request sent, awaiting response... 200 OK\n",
            "Length: 595975 (582K) [application/octet-stream]\n",
            "Saving to: ‘IHF2023-M-BIDEA_SCORING -FullP.xlsx’\n",
            "\n",
            "IHF2023-M-BIDEA_SCO 100%[===================>] 582.01K  --.-KB/s    in 0.01s   \n",
            "\n",
            "2023-08-30 08:32:59 (57.2 MB/s) - ‘IHF2023-M-BIDEA_SCORING -FullP.xlsx’ saved [595975/595975]\n",
            "\n",
            "--2023-08-30 08:32:59--  https://github.com/JoserraSASG/TFM_Repository/raw/main/IHF2023-M-BIDEA_SCORING%20-FullP.xlsx\n",
            "Resolving github.com (github.com)... 140.82.114.4\n",
            "Connecting to github.com (github.com)|140.82.114.4|:443... connected.\n",
            "HTTP request sent, awaiting response... 302 Found\n",
            "Location: https://raw.githubusercontent.com/JoserraSASG/TFM_Repository/main/IHF2023-M-BIDEA_SCORING%20-FullP.xlsx [following]\n",
            "--2023-08-30 08:32:59--  https://raw.githubusercontent.com/JoserraSASG/TFM_Repository/main/IHF2023-M-BIDEA_SCORING%20-FullP.xlsx\n",
            "Resolving raw.githubusercontent.com (raw.githubusercontent.com)... 185.199.108.133, 185.199.109.133, 185.199.110.133, ...\n",
            "Connecting to raw.githubusercontent.com (raw.githubusercontent.com)|185.199.108.133|:443... connected.\n",
            "HTTP request sent, awaiting response... 200 OK\n",
            "Length: 595975 (582K) [application/octet-stream]\n",
            "Saving to: ‘IHF2023-M-BIDEA_SCORING -FullP.xlsx.1’\n",
            "\n",
            "IHF2023-M-BIDEA_SCO 100%[===================>] 582.01K  --.-KB/s    in 0.009s  \n",
            "\n",
            "2023-08-30 08:32:59 (61.1 MB/s) - ‘IHF2023-M-BIDEA_SCORING -FullP.xlsx.1’ saved [595975/595975]\n",
            "\n",
            "--2023-08-30 08:33:00--  https://github.com/JoserraSASG/TFM_Repository/raw/main/EHF2020-W-ATTACKS%20(1).xlsx\n",
            "Resolving github.com (github.com)... 140.82.114.4\n",
            "Connecting to github.com (github.com)|140.82.114.4|:443... connected.\n",
            "HTTP request sent, awaiting response... 302 Found\n",
            "Location: https://raw.githubusercontent.com/JoserraSASG/TFM_Repository/main/EHF2020-W-ATTACKS%20(1).xlsx [following]\n",
            "--2023-08-30 08:33:00--  https://raw.githubusercontent.com/JoserraSASG/TFM_Repository/main/EHF2020-W-ATTACKS%20(1).xlsx\n",
            "Resolving raw.githubusercontent.com (raw.githubusercontent.com)... 185.199.108.133, 185.199.109.133, 185.199.110.133, ...\n",
            "Connecting to raw.githubusercontent.com (raw.githubusercontent.com)|185.199.108.133|:443... connected.\n",
            "HTTP request sent, awaiting response... 200 OK\n",
            "Length: 75558 (74K) [application/octet-stream]\n",
            "Saving to: ‘EHF2020-W-ATTACKS (1).xlsx’\n",
            "\n",
            "EHF2020-W-ATTACKS ( 100%[===================>]  73.79K  --.-KB/s    in 0.004s  \n",
            "\n",
            "2023-08-30 08:33:00 (16.1 MB/s) - ‘EHF2020-W-ATTACKS (1).xlsx’ saved [75558/75558]\n",
            "\n",
            "--2023-08-30 08:33:00--  https://github.com/JoserraSASG/TFM_Repository/raw/main/IHF2021-WOMEN-BIDEA_SCORING.xlsx\n",
            "Resolving github.com (github.com)... 140.82.114.4\n",
            "Connecting to github.com (github.com)|140.82.114.4|:443... connected.\n",
            "HTTP request sent, awaiting response... 302 Found\n",
            "Location: https://raw.githubusercontent.com/JoserraSASG/TFM_Repository/main/IHF2021-WOMEN-BIDEA_SCORING.xlsx [following]\n",
            "--2023-08-30 08:33:00--  https://raw.githubusercontent.com/JoserraSASG/TFM_Repository/main/IHF2021-WOMEN-BIDEA_SCORING.xlsx\n",
            "Resolving raw.githubusercontent.com (raw.githubusercontent.com)... 185.199.108.133, 185.199.109.133, 185.199.110.133, ...\n",
            "Connecting to raw.githubusercontent.com (raw.githubusercontent.com)|185.199.108.133|:443... connected.\n",
            "HTTP request sent, awaiting response... 200 OK\n",
            "Length: 467696 (457K) [application/octet-stream]\n",
            "Saving to: ‘IHF2021-WOMEN-BIDEA_SCORING.xlsx’\n",
            "\n",
            "IHF2021-WOMEN-BIDEA 100%[===================>] 456.73K  --.-KB/s    in 0.007s  \n",
            "\n",
            "2023-08-30 08:33:00 (66.2 MB/s) - ‘IHF2021-WOMEN-BIDEA_SCORING.xlsx’ saved [467696/467696]\n",
            "\n"
          ]
        }
      ]
    },
    {
      "cell_type": "code",
      "execution_count": null,
      "metadata": {
        "id": "syV9pm4Cklgn"
      },
      "outputs": [],
      "source": [
        "import pandas as pd\n",
        "import numpy as np\n",
        "\n",
        "dfEHFM2018 = pd.read_excel('EHF2018-M-ATTACKS (1).xlsx')\n",
        "dfEHFM2020 = pd.read_excel('EHF2020-M-ATTACKS.xlsx')\n",
        "dfIHFM2021 = pd.read_excel('IHF2021-MEN-BIDEA_SCORING.xlsx', sheet_name='Teams')\n",
        "dfIHFM2023 = pd.read_excel('IHF2023-M-BIDEA_SCORING -FullP.xlsx', sheet_name='Teams')\n",
        "dfEHFW2020 = pd.read_excel('EHF2020-W-ATTACKS (1).xlsx', sheet_name='Export')\n",
        "dfIHFW2021 =  pd.read_excel('IHF2021-WOMEN-BIDEA_SCORING.xlsx', sheet_name= 'Teams')"
      ]
    },
    {
      "cell_type": "markdown",
      "source": [
        "# Male"
      ],
      "metadata": {
        "id": "oyMV1bfBIBLo"
      }
    },
    {
      "cell_type": "code",
      "source": [
        "\n",
        "# ETL processes required to make all columns equal\n",
        "\n",
        "# Remove unnecessary columns\n",
        "dfEHFM2020 = dfEHFM2020.drop(['Eff+GK', 'Lanz+GK', 'Eff+GK-%TO', 'Eff+GK-TO'], axis=1)\n",
        "dfIHFM2021 = dfIHFM2021.drop(['Phase'], axis=1)\n",
        "dfIHFM2023 = dfIHFM2023.drop(['Phase'], axis=1)\n",
        "# Calculate %TO in dfs where it's missing\n",
        "dfIHFM2021['%TO'] = dfIHFM2021['TO'] / dfIHFM2021['Attacks'] * 100\n",
        "dfIHFM2023['%TO'] = dfIHFM2023['TO'] / dfIHFM2023['Attacks'] * 100\n",
        "# Rename 'TO%' in dfs 2018 and 2020\n",
        "dfEHFM2018 = dfEHFM2018.rename(columns={'TO%': '%TO'})\n",
        "dfEHFM2020 = dfEHFM2020.rename(columns={'TO%': '%TO'})\n",
        "# Calculate 'Goals' in dfs where it's missing\n",
        "dfEHFM2018['Goals'] = round((dfEHFM2018['Attacks'] * dfEHFM2018['%Eff']/100), 0)\n",
        "dfEHFM2020['Goals'] = round((dfEHFM2020['Attacks'] * dfEHFM2020['%Eff']/100), 0)\n",
        "# Create Match No.\n",
        "dfEHFM2018[['Match No.', 'Match']] = dfEHFM2018['Match'].str.split(' ', n=1, expand=True)\n",
        "dfEHFM2020[['Match No.', 'Match']] = dfEHFM2020['Match'].str.split(' ', n=1, expand=True)\n",
        "# Calculate Diff\n",
        "dfEHFM2018['Diff'] = dfEHFM2018.groupby('Match No.')['Goals'].diff()\n",
        "dfEHFM2018['Diff'] = dfEHFM2018['Diff'].fillna(-dfEHFM2018['Diff'].shift(-1))\n",
        "dfEHFM2020['Diff'] = dfEHFM2020.groupby('Match No.')['Goals'].diff()\n",
        "dfEHFM2020['Diff'] = dfEHFM2020['Diff'].fillna(-dfEHFM2020['Diff'].shift(-1))\n",
        "# Create a list of columns in the new order\n",
        "new_column_order = ['Unnamed: 0', 'Match No.', 'Match', 'Team', 'Attacks', '%Eff', '%Lanz', '%GK', 'TO', '%TO', '¿GANA?', 'Goals', 'Diff']\n",
        "dfEHFM2018 = dfEHFM2018[new_column_order]\n",
        "dfEHFM2020 = dfEHFM2020[new_column_order]"
      ],
      "metadata": {
        "id": "he_vQCuwhiZV"
      },
      "execution_count": null,
      "outputs": []
    },
    {
      "cell_type": "code",
      "source": [
        "from sklearn.model_selection import train_test_split\n",
        "\n",
        "# Find the intersection of columns across all dataframes\n",
        "common_columns = dfEHFM2018.columns.intersection(dfEHFM2020.columns).intersection(dfIHFM2021.columns).intersection(dfIHFM2023.columns)\n",
        "\n",
        "# Only select the common columns in each dataframe\n",
        "dfEHFM2018 = dfEHFM2018[common_columns]\n",
        "dfEHFM2020 = dfEHFM2020[common_columns]\n",
        "dfIHFM2021 = dfIHFM2021[common_columns]\n",
        "dfIHFM2023 = dfIHFM2023[common_columns]\n",
        "\n",
        "# Merge the dataframes\n",
        "dfM = pd.concat([dfEHFM2018, dfEHFM2020, dfIHFM2021, dfIHFM2023], ignore_index=True)\n",
        "\n",
        "# Split the dataframe into training and test sets\n",
        "dfMtrain, dfMtest = train_test_split(dfM, test_size=0.3, random_state=15)"
      ],
      "metadata": {
        "id": "gFbv6i_so9aW"
      },
      "execution_count": null,
      "outputs": []
    },
    {
      "cell_type": "code",
      "source": [
        "%%script false --no-raise-error\n",
        "from google.colab import drive\n",
        "drive.mount('/content/drive')\n",
        "\n",
        "# Save the DataFrames to Google Drive\n",
        "dfMtrain.to_excel('/content/drive/My Drive/datos/dfMtrain.xlsx', index=False)\n",
        "dfMtest.to_excel('/content/drive/My Drive/datos/dfMtest.xlsx', index=False)"
      ],
      "metadata": {
        "id": "S8-TAyZIrWzr"
      },
      "execution_count": null,
      "outputs": []
    },
    {
      "cell_type": "markdown",
      "source": [
        "# Female"
      ],
      "metadata": {
        "id": "uJa0fvMQIF_a"
      }
    },
    {
      "cell_type": "code",
      "source": [
        "# ETL processes required to make all columns equal\n",
        "\n",
        "# Remove unnecessary columns\n",
        "dfEHFW2020 = dfEHFW2020.drop(['Shots', '%Eff-Maj', '%Eff-Min', '%Eff-Pos', '%Eff-FB', '%Eff-Ind-FB', '%Eff-Team-FB'], axis=1)\n",
        "dfIHFW2021 = dfIHFW2021.drop(['Match No.'], axis=1)\n",
        "# Create '%TO' in dfs where it doesn't exist\n",
        "dfIHFW2021['%TO'] = dfIHFM2021['TO'] / dfIHFM2021['Attacks'] * 100\n",
        "# Rename columns\n",
        "dfEHFW2020 = dfEHFW2020.rename(columns={'TO %': '%TO'})\n",
        "dfEHFW2020 = dfEHFW2020.rename(columns={'Dif': 'Diff'})"
      ],
      "metadata": {
        "id": "netnJIfzHgvL"
      },
      "execution_count": null,
      "outputs": []
    },
    {
      "cell_type": "code",
      "source": [
        "from sklearn.model_selection import train_test_split\n",
        "\n",
        "# Find the intersection of columns across all dataframes\n",
        "common_columns = dfEHFW2020.columns.intersection(dfIHFW2021.columns)\n",
        "\n",
        "# Only select the common columns in each dataframe\n",
        "dfEHFW2020 = dfEHFW2020[common_columns]\n",
        "dfIHFW2021 = dfIHFW2021[common_columns]\n",
        "\n",
        "# Merge the dataframes\n",
        "dfW = pd.concat([dfEHFW2020, dfIHFW2021], ignore_index=True)\n",
        "\n",
        "# Split the dataframe into training and test sets\n",
        "dfWtrain, dfWtest = train_test_split(dfW, test_size=0.3, random_state=15)"
      ],
      "metadata": {
        "id": "UEDG8ww6MAfm"
      },
      "execution_count": null,
      "outputs": []
    },
    {
      "cell_type": "code",
      "source": [
        "%%script false --no-raise-error\n",
        "from google.colab import drive\n",
        "drive.mount('/content/drive')\n",
        "\n",
        "# Save the DataFrames to Google Drive\n",
        "dfWtrain.to_excel('/content/drive/My Drive/datos/dfWtrain.xlsx', index=False)\n",
        "dfWtest.to_excel('/content/drive/My Drive/datos/dfWtest.xlsx', index=False)"
      ],
      "metadata": {
        "id": "n__GBEcqMhZT"
      },
      "execution_count": null,
      "outputs": []
    }
  ]
}